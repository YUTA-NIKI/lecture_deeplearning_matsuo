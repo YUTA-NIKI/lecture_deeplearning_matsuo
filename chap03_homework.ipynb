{
  "nbformat": 4,
  "nbformat_minor": 0,
  "metadata": {
    "colab": {
      "name": "chap03_homework.ipynb",
      "version": "0.3.2",
      "provenance": [],
      "toc_visible": true,
      "include_colab_link": true
    },
    "kernelspec": {
      "name": "python3",
      "display_name": "Python 3"
    }
  },
  "cells": [
    {
      "cell_type": "markdown",
      "metadata": {
        "id": "view-in-github",
        "colab_type": "text"
      },
      "source": [
        "<a href=\"https://colab.research.google.com/github/YUTA-NIKI/lecture_deeplearning_matsuo/blob/master/chap03_homework.ipynb\" target=\"_parent\"><img src=\"https://colab.research.google.com/assets/colab-badge.svg\" alt=\"Open In Colab\"/></a>"
      ]
    },
    {
      "metadata": {
        "id": "gu8yWKeuiTOt",
        "colab_type": "text"
      },
      "cell_type": "markdown",
      "source": [
        "# Lecture3 Homework\n",
        "Make  softmax model to clasify Fashion MNIST (https://github.com/zalandoresearch/fashion-mnist)."
      ]
    },
    {
      "metadata": {
        "id": "Ea4hkygSpnMD",
        "colab_type": "text"
      },
      "cell_type": "markdown",
      "source": [
        "## Mount Google Drive"
      ]
    },
    {
      "metadata": {
        "id": "sW1c_ammh5UG",
        "colab_type": "code",
        "colab": {
          "base_uri": "https://localhost:8080/",
          "height": 128
        },
        "outputId": "1ff7e9bf-1160-4b96-9978-1325bc67fe35"
      },
      "cell_type": "code",
      "source": [
        "from google.colab import drive\n",
        "drive.mount('/content/drive')"
      ],
      "execution_count": 2,
      "outputs": [
        {
          "output_type": "stream",
          "text": [
            "Go to this URL in a browser: https://accounts.google.com/o/oauth2/auth?client_id=947318989803-6bn6qk8qdgf4n4g3pfee6491hc0brc4i.apps.googleusercontent.com&redirect_uri=urn%3Aietf%3Awg%3Aoauth%3A2.0%3Aoob&scope=email%20https%3A%2F%2Fwww.googleapis.com%2Fauth%2Fdocs.test%20https%3A%2F%2Fwww.googleapis.com%2Fauth%2Fdrive%20https%3A%2F%2Fwww.googleapis.com%2Fauth%2Fdrive.photos.readonly%20https%3A%2F%2Fwww.googleapis.com%2Fauth%2Fpeopleapi.readonly&response_type=code\n",
            "\n",
            "Enter your authorization code:\n",
            "··········\n",
            "Mounted at /content/drive\n"
          ],
          "name": "stdout"
        }
      ]
    },
    {
      "metadata": {
        "id": "0Sjtzmjgmhbr",
        "colab_type": "code",
        "colab": {
          "base_uri": "https://localhost:8080/",
          "height": 35
        },
        "outputId": "e09b106e-f96a-4fcc-9359-4ce609819e99"
      },
      "cell_type": "code",
      "source": [
        "!ls /content/drive/\"My Drive\"/lecture_master/2019_summer/deeplearning_matsuo/chap03_data"
      ],
      "execution_count": 13,
      "outputs": [
        {
          "output_type": "stream",
          "text": [
            "x_test.npy  x_train.npy  y_train.npy\n"
          ],
          "name": "stdout"
        }
      ]
    },
    {
      "metadata": {
        "id": "BnNGYaAtpDz9",
        "colab_type": "text"
      },
      "cell_type": "markdown",
      "source": [
        "## Read Data"
      ]
    },
    {
      "metadata": {
        "id": "tdMDdkTcnT-I",
        "colab_type": "code",
        "colab": {}
      },
      "cell_type": "code",
      "source": [
        "import os\n",
        "import sys\n",
        "\n",
        "import numpy as np\n",
        "import pandas as pd\n",
        "\n",
        "sys.modules['tensorflow'] = None\n",
        "\n",
        "def load_fashionmnist():\n",
        "    # 学習データ\n",
        "    x_train = np.load('/content/drive/My Drive/lecture_master/2019_summer/deeplearning_matsuo/chap03_data/x_train.npy')\n",
        "    y_train = np.load('/content/drive/My Drive/lecture_master/2019_summer/deeplearning_matsuo/chap03_data/y_train.npy')\n",
        "    \n",
        "    # テストデータ\n",
        "    x_test = np.load('/content/drive/My Drive/lecture_master/2019_summer/deeplearning_matsuo/chap03_data/x_test.npy')\n",
        "    \n",
        "    x_train = x_train.reshape(-1, 784).astype('float32') / 255\n",
        "    y_train = np.eye(10)[y_train.astype('int32')]\n",
        "    x_test = x_test.reshape(-1, 784).astype('float32') / 255\n",
        "    \n",
        "    return x_train, y_train, x_test"
      ],
      "execution_count": 0,
      "outputs": []
    },
    {
      "metadata": {
        "id": "lhEq7gvTqVKJ",
        "colab_type": "text"
      },
      "cell_type": "markdown",
      "source": [
        "## Implement Softmax Regression"
      ]
    },
    {
      "metadata": {
        "id": "VcoufpAbpfg0",
        "colab_type": "code",
        "colab": {
          "base_uri": "https://localhost:8080/",
          "height": 35
        },
        "outputId": "2e50495d-c590-4902-9a8f-836be55e47c8"
      },
      "cell_type": "code",
      "source": [
        "# %%writefile /root/userspace/chap03/submission_code.py\n",
        "\n",
        "x_train, y_train, x_test = load_fashionmnist()\n",
        "\n",
        "from sklearn.utils import shuffle\n",
        "from sklearn.metrics import accuracy_score\n",
        "from sklearn.model_selection import train_test_split\n",
        "\n",
        "def softmax(x):\n",
        "    x -= x.max(axis=1, keepdims=True) # expのunderflow & overflowを防ぐ\n",
        "    x_exp = np.exp(x)\n",
        "    return x_exp / np.sum(x_exp, axis=1, keepdims=True)\n",
        "\n",
        "def np_log(x):\n",
        "    return np.log(np.clip(a=x, a_min=1e-10, a_max=x))\n",
        "\n",
        "# weights\n",
        "W = np.random.uniform(low=-0.08, high=0.08, size=(784, 10)).astype('float32')\n",
        "b = np.zeros(shape=(10,)).astype('float32')\n",
        "\n",
        "# 学習データと検証データに分割\n",
        "x_train, x_valid, y_train, y_valid = train_test_split(x_train, y_train, test_size=0.1)\n",
        "\n",
        "def train(x, t, eps=1.0):\n",
        "    \n",
        "    global W, b\n",
        "    \n",
        "    batch_size = x.shape[0]\n",
        "    \n",
        "    y = softmax(np.matmul(x, W) + b)\n",
        "    \n",
        "    cost = (- t * np_log(y)).sum(axis=1).mean()\n",
        "    delta = y - t\n",
        "    \n",
        "    dW = np.matmul(x.T, delta) / batch_size\n",
        "    db = np.matmul(np.ones(shape=(batch_size,)), delta) / batch_size\n",
        "    \n",
        "    W -= eps * dW\n",
        "    b -= eps * db\n",
        "    \n",
        "    return cost\n",
        "\n",
        "def valid(x, t):\n",
        "    y = softmax(np.matmul(x, W) + b)\n",
        "    cost = (-t * np_log(y)).sum(axis=1).mean()\n",
        "    \n",
        "    return cost, y\n",
        "\n",
        "for epoch in range(1):\n",
        "    # オンライン学習\n",
        "    x_train, y_train = shuffle(x_train, y_train)\n",
        "    for x, y in zip(x_train, y_train):\n",
        "        cost = train(x[None, :], y[None, :])\n",
        "    cost, y_pred = valid(x_valid, y_valid)\n",
        "    print('EPOCH: {}, Valid Cost: {:.3f}, Valid Accuracy: {:.3f}'.format(\n",
        "        epoch + 1,\n",
        "        cost,\n",
        "        accuracy_score(y_valid.argmax(axis=1), y_pred.argmax(axis=1))\n",
        "    ))\n",
        "\n",
        "y_pred = softmax(np.matmul(x_test, W) + b)\n",
        "\n",
        "submission = pd.Series(y_pred.argmax(axis=1), name='label')\n",
        "submission.to_csv('/content/drive/My Drive/lecture_master/2019_summer/deeplearning_matsuo/homework/chap03/submission_pred.csv', header=True, index_label='id')"
      ],
      "execution_count": 19,
      "outputs": [
        {
          "output_type": "stream",
          "text": [
            "EPOCH: 1, Valid Cost: 4.937, Valid Accuracy: 0.768\n"
          ],
          "name": "stdout"
        }
      ]
    },
    {
      "metadata": {
        "id": "3Qc6PSuEq9Pl",
        "colab_type": "code",
        "colab": {}
      },
      "cell_type": "code",
      "source": [
        ""
      ],
      "execution_count": 0,
      "outputs": []
    }
  ]
}